{
 "cells": [
  {
   "cell_type": "code",
   "execution_count": 13,
   "metadata": {},
   "outputs": [],
   "source": [
    "import numpy as np\n",
    "import re\n",
    "from nltk.corpus import stopwords"
   ]
  },
  {
   "cell_type": "code",
   "execution_count": 3,
   "metadata": {},
   "outputs": [
    {
     "name": "stderr",
     "output_type": "stream",
     "text": [
      "<>:2: SyntaxWarning: invalid escape sequence '\\w'\n",
      "<>:2: SyntaxWarning: invalid escape sequence '\\w'\n",
      "C:\\Users\\karan\\AppData\\Local\\Temp\\ipykernel_11020\\2235359338.py:2: SyntaxWarning: invalid escape sequence '\\w'\n",
      "  words = re.sub('[^\\w]' , ' ' , sentences).split()\n"
     ]
    }
   ],
   "source": [
    "def word_extraction(sentences):\n",
    "    words = re.sub('[^\\w]' , ' ' , sentences).split()\n",
    "    cleaned_words = [w.lower() for w in words if w not in stopwords.words('english')]\n",
    "    return cleaned_words"
   ]
  },
  {
   "cell_type": "code",
   "execution_count": 4,
   "metadata": {},
   "outputs": [],
   "source": [
    "def tokenize(sentences):\n",
    "    words = []\n",
    "    for sentence in sentences:\n",
    "        w = word_extraction(sentence)\n",
    "        words.extend(w)\n",
    "        \n",
    "    words = sorted(list(set(words)))\n",
    "    return words"
   ]
  },
  {
   "cell_type": "code",
   "execution_count": 5,
   "metadata": {},
   "outputs": [
    {
     "data": {
      "text/plain": [
       "['ahmed', 'ali', 'arrived', 'bus', 'station', 'early', 'waited', 'noon', 'bus']"
      ]
     },
     "execution_count": 5,
     "metadata": {},
     "output_type": "execute_result"
    }
   ],
   "source": [
    "#test the prevoius two functions\n",
    "text = \"Ahmed and Ali arrived at the bus station early but waited until noon for the bus\"\n",
    "\n",
    "#word_extraction\n",
    "word_extraction(text)"
   ]
  },
  {
   "cell_type": "code",
   "execution_count": 6,
   "metadata": {},
   "outputs": [
    {
     "data": {
      "text/plain": [
       "['ahmed', 'ali', 'arrived', 'bus', 'early', 'noon', 'station', 'waited']"
      ]
     },
     "execution_count": 6,
     "metadata": {},
     "output_type": "execute_result"
    }
   ],
   "source": [
    "tokenize(word_extraction(text))"
   ]
  },
  {
   "cell_type": "code",
   "execution_count": 11,
   "metadata": {},
   "outputs": [],
   "source": [
    "def generate_bow(all_sentences):\n",
    "    vocab = tokenize(all_sentences)\n",
    "    print(\"The word list for the Document :\\n{0}\\n\".format(vocab))\n",
    "    \n",
    "    for sentence in all_sentences:\n",
    "        words = word_extraction(sentence)\n",
    "        bow = np.zeros(len(vocab))\n",
    "        \n",
    "        for i, w in enumerate(vocab):\n",
    "            for word in words:\n",
    "                if word == w:\n",
    "                    bow[i] += 1\n",
    "                    \n",
    "        print(\"The bag of words for the sentence :\\n{0}\\n{1}\\n\".format(sentence, np.array(bow)))\n",
    "        print(\"-\"*80)"
   ]
  },
  {
   "cell_type": "code",
   "execution_count": 12,
   "metadata": {},
   "outputs": [
    {
     "name": "stdout",
     "output_type": "stream",
     "text": [
      "The word list for the Document :\n",
      "['arrived', 'bus', 'early', 'i', 'joe', 'late', 'looked', 'mary', 'noon', 'samantha', 'station', 'the', 'took', 'train', 'waited']\n",
      "\n",
      "The bag of words for the sentence :\n",
      "Joe waited for the train\n",
      "[0. 0. 0. 0. 1. 0. 0. 0. 0. 0. 0. 0. 0. 1. 1.]\n",
      "\n",
      "--------------------------------------------------------------------------------\n",
      "The bag of words for the sentence :\n",
      "The train was late\n",
      "[0. 0. 0. 0. 0. 1. 0. 0. 0. 0. 0. 1. 0. 1. 0.]\n",
      "\n",
      "--------------------------------------------------------------------------------\n",
      "The bag of words for the sentence :\n",
      "Mary and Samantha took the bus\n",
      "[0. 1. 0. 0. 0. 0. 0. 1. 0. 1. 0. 0. 1. 0. 0.]\n",
      "\n",
      "--------------------------------------------------------------------------------\n",
      "The bag of words for the sentence :\n",
      "I looked for Mary and Samantha at the bus station\n",
      "[0. 1. 0. 1. 0. 0. 1. 1. 0. 1. 1. 0. 0. 0. 0.]\n",
      "\n",
      "--------------------------------------------------------------------------------\n",
      "The bag of words for the sentence :\n",
      "Mary and Samantha arrived at the bus station early but waited until noon for the bus\n",
      "[1. 2. 1. 0. 0. 0. 0. 1. 1. 1. 1. 0. 0. 0. 1.]\n",
      "\n",
      "--------------------------------------------------------------------------------\n"
     ]
    }
   ],
   "source": [
    "all_sentences = ['Joe waited for the train',\n",
    "                'The train was late',\n",
    "                'Mary and Samantha took the bus',\n",
    "                'I looked for Mary and Samantha at the bus station',\n",
    "                'Mary and Samantha arrived at the bus station early but waited until noon for the bus']\n",
    "\n",
    "generate_bow(all_sentences)"
   ]
  },
  {
   "cell_type": "code",
   "execution_count": null,
   "metadata": {},
   "outputs": [],
   "source": []
  }
 ],
 "metadata": {
  "kernelspec": {
   "display_name": "dataindex",
   "language": "python",
   "name": "python3"
  },
  "language_info": {
   "codemirror_mode": {
    "name": "ipython",
    "version": 3
   },
   "file_extension": ".py",
   "mimetype": "text/x-python",
   "name": "python",
   "nbconvert_exporter": "python",
   "pygments_lexer": "ipython3",
   "version": "3.12.3"
  }
 },
 "nbformat": 4,
 "nbformat_minor": 2
}
