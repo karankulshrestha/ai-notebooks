{
 "cells": [
  {
   "cell_type": "code",
   "execution_count": 2,
   "metadata": {},
   "outputs": [],
   "source": [
    "import numpy as np\n",
    "from hmmlearn import hmm"
   ]
  },
  {
   "cell_type": "code",
   "execution_count": 3,
   "metadata": {},
   "outputs": [],
   "source": [
    "states = [\"Silence\", \"Word1\", \"Word2\", \"Word3\"]\n",
    "n_states = len(states)\n",
    "\n",
    "observations = [\"Loud\", \"Soft\"]\n",
    "n_observations = len(observations)"
   ]
  },
  {
   "cell_type": "code",
   "execution_count": 4,
   "metadata": {},
   "outputs": [],
   "source": [
    "start_probability = np.array([0.8, 0.1, 0.1, 0.0])\n",
    "\n",
    "transition_probability = np.array([[0.7, 0.2, 0.1, 0.0],\n",
    "                                    [0.0, 0.6, 0.4, 0.0],\n",
    "                                    [0.0, 0.0, 0.6, 0.4],\n",
    "                                    [0.0, 0.0, 0.0, 1.0]])\n",
    "\n",
    "\n",
    "emission_probability = np.array([[0.7, 0.3],\n",
    "                                  [0.4, 0.6],\n",
    "                                  [0.6, 0.4],\n",
    "                                  [0.3, 0.7]])"
   ]
  },
  {
   "cell_type": "code",
   "execution_count": 5,
   "metadata": {},
   "outputs": [],
   "source": [
    "model = hmm.CategoricalHMM(n_components=n_states)\n",
    "model.startprob_ = start_probability\n",
    "model.transmat_ = transition_probability\n",
    "model.emissionprob_ = emission_probability"
   ]
  },
  {
   "cell_type": "code",
   "execution_count": 9,
   "metadata": {},
   "outputs": [
    {
     "name": "stdout",
     "output_type": "stream",
     "text": [
      "[[0]\n",
      " [1]\n",
      " [0]\n",
      " [0]\n",
      " [1]\n",
      " [1]\n",
      " [0]\n",
      " [1]]\n"
     ]
    }
   ],
   "source": [
    "observations_sequence = np.array([0, 1, 0, 0, 1, 1, 0, 1]).reshape(-1, 1)\n",
    "print(observations_sequence)"
   ]
  },
  {
   "cell_type": "code",
   "execution_count": 10,
   "metadata": {},
   "outputs": [
    {
     "name": "stdout",
     "output_type": "stream",
     "text": [
      "Most likely hidden states: [0 1 2 2 3 3 3 3]\n"
     ]
    }
   ],
   "source": [
    "hidden_states = model.predict(observations_sequence)\n",
    "print(\"Most likely hidden states:\", hidden_states)"
   ]
  }
 ],
 "metadata": {
  "kernelspec": {
   "display_name": "dataindex",
   "language": "python",
   "name": "python3"
  },
  "language_info": {
   "codemirror_mode": {
    "name": "ipython",
    "version": 3
   },
   "file_extension": ".py",
   "mimetype": "text/x-python",
   "name": "python",
   "nbconvert_exporter": "python",
   "pygments_lexer": "ipython3",
   "version": "3.12.3"
  }
 },
 "nbformat": 4,
 "nbformat_minor": 2
}
