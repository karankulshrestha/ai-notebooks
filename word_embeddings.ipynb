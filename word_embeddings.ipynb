{
 "cells": [
  {
   "cell_type": "markdown",
   "metadata": {},
   "source": [
    "## **One Hot Encoding**"
   ]
  },
  {
   "cell_type": "code",
   "execution_count": 5,
   "metadata": {},
   "outputs": [],
   "source": [
    "def get_one_hot_encoding(text):\n",
    "    words = text.split()\n",
    "    vocab = set(words)\n",
    "    encodings = []\n",
    "    vocab_to_index = {word: i for i, word in enumerate(vocab)}\n",
    "    for word in words:\n",
    "        one_hot_encoding = [0] * len(vocab)\n",
    "        one_hot_encoding[vocab_to_index[word]] = 1\n",
    "        encodings.append(one_hot_encoding)\n",
    "    return encodings"
   ]
  },
  {
   "cell_type": "code",
   "execution_count": 7,
   "metadata": {},
   "outputs": [
    {
     "name": "stdout",
     "output_type": "stream",
     "text": [
      "cat: [0, 0, 1, 0, 0, 0, 0, 0, 0]\n",
      "in: [0, 0, 0, 0, 1, 0, 0, 0, 0]\n",
      "the: [1, 0, 0, 0, 0, 0, 0, 0, 0]\n",
      "hat: [0, 0, 0, 0, 0, 0, 0, 1, 0]\n",
      "dog: [0, 1, 0, 0, 0, 0, 0, 0, 0]\n",
      "on: [0, 0, 0, 1, 0, 0, 0, 0, 0]\n",
      "the: [1, 0, 0, 0, 0, 0, 0, 0, 0]\n",
      "mat: [0, 0, 0, 0, 0, 1, 0, 0, 0]\n",
      "bird: [0, 0, 0, 0, 0, 0, 0, 0, 1]\n",
      "in: [0, 0, 0, 0, 1, 0, 0, 0, 0]\n",
      "the: [1, 0, 0, 0, 0, 0, 0, 0, 0]\n",
      "tree: [0, 0, 0, 0, 0, 0, 1, 0, 0]\n"
     ]
    }
   ],
   "source": [
    "example_text = \"cat in the hat dog on the mat bird in the tree\"\n",
    "one_hot_encodings = get_one_hot_encoding(example_text)\n",
    "\n",
    "for word, encoding in zip(example_text.split(), one_hot_encodings):\n",
    "    print(f\"{word}: {encoding}\")"
   ]
  },
  {
   "cell_type": "markdown",
   "metadata": {},
   "source": [
    "## **Bag of Word (Bow)**"
   ]
  },
  {
   "cell_type": "code",
   "execution_count": 14,
   "metadata": {},
   "outputs": [
    {
     "name": "stdout",
     "output_type": "stream",
     "text": [
      "Bag-of-Words Matrix:\n",
      "[[0 1 1 1 0 0 1 0 1]\n",
      " [0 2 0 1 0 1 1 0 1]\n",
      " [1 0 0 1 1 0 1 1 1]\n",
      " [0 1 1 1 0 0 1 0 1]]\n",
      "Vocabulary (Feature Names): ['and' 'document' 'first' 'is' 'one' 'second' 'the' 'third' 'this']\n"
     ]
    }
   ],
   "source": [
    "from sklearn.feature_extraction.text import CountVectorizer\n",
    "\n",
    "documents = [\"This is the first document.\",\n",
    "              \"This document is the second document.\",\n",
    "              \"And this is the third one.\",\n",
    "              \"Is this the first document?\"]\n",
    "\n",
    "vectorizer = CountVectorizer()\n",
    "X = vectorizer.fit_transform(documents)\n",
    "feature_names = vectorizer.get_feature_names_out()\n",
    "\n",
    "print(\"Bag-of-Words Matrix:\")\n",
    "print(X.toarray())\n",
    "print(\"Vocabulary (Feature Names):\", feature_names)"
   ]
  },
  {
   "cell_type": "markdown",
   "metadata": {},
   "source": [
    "## **TF-IDF**"
   ]
  },
  {
   "cell_type": "code",
   "execution_count": 1,
   "metadata": {},
   "outputs": [],
   "source": [
    "   \n",
    "from sklearn.feature_extraction.text import TfidfVectorizer\n",
    "\n",
    "documents = [\n",
    "    \"The quick brown fox jumps over the lazy dog.\",\n",
    "    \"A journey of a thousand miles begins with a single step.\",\n",
    "]\n",
    "\n",
    "vectorizer = TfidfVectorizer()\n",
    "tfidf_matrix = vectorizer.fit_transform(documents)\n",
    "feature_names = vectorizer.get_feature_names_out()\n",
    "\n",
    "tfidf_values = {}\n",
    "\n",
    "# for doc_index, doc in enumerate(documents):\n",
    "    "
   ]
  },
  {
   "cell_type": "code",
   "execution_count": 2,
   "metadata": {},
   "outputs": [
    {
     "name": "stdout",
     "output_type": "stream",
     "text": [
      "<Compressed Sparse Row sparse matrix of dtype 'float64'\n",
      "\twith 16 stored elements and shape (2, 16)>\n",
      "  Coords\tValues\n",
      "  (0, 13)\t0.6030226891555273\n",
      "  (0, 10)\t0.30151134457776363\n",
      "  (0, 1)\t0.30151134457776363\n",
      "  (0, 3)\t0.30151134457776363\n",
      "  (0, 5)\t0.30151134457776363\n",
      "  (0, 9)\t0.30151134457776363\n",
      "  (0, 6)\t0.30151134457776363\n",
      "  (0, 2)\t0.30151134457776363\n",
      "  (1, 4)\t0.3535533905932738\n",
      "  (1, 8)\t0.3535533905932738\n",
      "  (1, 14)\t0.3535533905932738\n",
      "  (1, 7)\t0.3535533905932738\n",
      "  (1, 0)\t0.3535533905932738\n",
      "  (1, 15)\t0.3535533905932738\n",
      "  (1, 11)\t0.3535533905932738\n",
      "  (1, 12)\t0.3535533905932738\n"
     ]
    }
   ],
   "source": [
    "print(tfidf_matrix)"
   ]
  },
  {
   "cell_type": "code",
   "execution_count": 5,
   "metadata": {},
   "outputs": [
    {
     "name": "stdout",
     "output_type": "stream",
     "text": [
      "Document 1:\n",
      "the: 0.6030226891555273\n",
      "quick: 0.30151134457776363\n",
      "brown: 0.30151134457776363\n",
      "fox: 0.30151134457776363\n",
      "jumps: 0.30151134457776363\n",
      "over: 0.30151134457776363\n",
      "lazy: 0.30151134457776363\n",
      "dog: 0.30151134457776363\n",
      "\n",
      "\n",
      "Document 2:\n",
      "journey: 0.3535533905932738\n",
      "of: 0.3535533905932738\n",
      "thousand: 0.3535533905932738\n",
      "miles: 0.3535533905932738\n",
      "begins: 0.3535533905932738\n",
      "with: 0.3535533905932738\n",
      "single: 0.3535533905932738\n",
      "step: 0.3535533905932738\n",
      "\n",
      "\n"
     ]
    }
   ],
   "source": [
    "for doc_index, doc in enumerate(documents):\n",
    "    feature_index = tfidf_matrix[doc_index, :].nonzero()[1]\n",
    "    tfidf_doc_values = zip(feature_index, [tfidf_matrix[doc_index, x] for x in feature_index])\n",
    "    tfidf_values[doc_index] = {feature_names[i]: value for i, value in tfidf_doc_values}\n",
    "\n",
    "\n",
    "for doc_index, values in tfidf_values.items():\n",
    "    print(f\"Document {doc_index + 1}:\")\n",
    "    for word, tfidf_value in values.items():\n",
    "        print(f\"{word}: {tfidf_value}\")\n",
    "    print(\"\\n\")"
   ]
  },
  {
   "cell_type": "code",
   "execution_count": null,
   "metadata": {},
   "outputs": [],
   "source": []
  }
 ],
 "metadata": {
  "kernelspec": {
   "display_name": "applicant",
   "language": "python",
   "name": "python3"
  },
  "language_info": {
   "codemirror_mode": {
    "name": "ipython",
    "version": 3
   },
   "file_extension": ".py",
   "mimetype": "text/x-python",
   "name": "python",
   "nbconvert_exporter": "python",
   "pygments_lexer": "ipython3",
   "version": "3.10.14"
  }
 },
 "nbformat": 4,
 "nbformat_minor": 2
}
